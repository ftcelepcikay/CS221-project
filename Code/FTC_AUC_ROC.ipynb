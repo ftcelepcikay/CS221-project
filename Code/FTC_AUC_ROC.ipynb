{
  "nbformat": 4,
  "nbformat_minor": 0,
  "metadata": {
    "kernelspec": {
      "display_name": "Python 3",
      "language": "python",
      "name": "python3"
    },
    "language_info": {
      "codemirror_mode": {
        "name": "ipython",
        "version": 3
      },
      "file_extension": ".py",
      "mimetype": "text/x-python",
      "name": "python",
      "nbconvert_exporter": "python",
      "pygments_lexer": "ipython3",
      "version": "3.7.3"
    },
    "colab": {
      "name": "FTC_AUC_ROC.ipynb",
      "provenance": [],
      "collapsed_sections": [],
      "include_colab_link": true
    },
    "accelerator": "GPU"
  },
  "cells": [
    {
      "cell_type": "markdown",
      "metadata": {
        "id": "view-in-github",
        "colab_type": "text"
      },
      "source": [
        "<a href=\"https://colab.research.google.com/github/ftcelepcikay/CS221-project/blob/main/Code/FTC_AUC_ROC.ipynb\" target=\"_parent\"><img src=\"https://colab.research.google.com/assets/colab-badge.svg\" alt=\"Open In Colab\"/></a>"
      ]
    },
    {
      "cell_type": "code",
      "metadata": {
        "id": "vYxVE_tAnkBJ"
      },
      "source": [
        "#!/usr/bin/env python\n",
        "\n",
        "import numpy as np\n",
        "import pandas as pd\n",
        "import string\n",
        "import sklearn\n",
        "import nltk\n",
        "from sklearn.feature_extraction.text import TfidfVectorizer, CountVectorizer\n",
        "from sklearn import decomposition\n",
        "import seaborn as sns\n",
        "\n",
        "from sklearn import model_selection, preprocessing, linear_model, naive_bayes, metrics, svm\n",
        "from sklearn.feature_extraction.text import TfidfVectorizer, CountVectorizer\n",
        "from sklearn import decomposition, ensemble,calibration\n",
        "\n",
        "#from sklearn.cross_validation import KFold\n",
        "#from sklearn.cross_validation import train_test_split\n",
        "\n",
        "#import pandas, numpy, textblob, string\n",
        "#from keras.preprocessing import text, sequence\n",
        "#from keras import layers, models, optimizers"
      ],
      "execution_count": null,
      "outputs": []
    },
    {
      "cell_type": "code",
      "metadata": {
        "colab": {
          "base_uri": "https://localhost:8080/"
        },
        "id": "4YabtQzMno5v",
        "outputId": "0a917f9f-bf70-4a92-c2c4-249847c75232"
      },
      "source": [
        "from google.colab import drive\n",
        "drive.mount('/content/drive', force_remount=True)"
      ],
      "execution_count": null,
      "outputs": [
        {
          "output_type": "stream",
          "name": "stdout",
          "text": [
            "Mounted at /content/drive\n"
          ]
        }
      ]
    },
    {
      "cell_type": "code",
      "metadata": {
        "colab": {
          "base_uri": "https://localhost:8080/"
        },
        "id": "jXIlsgy5n7ct",
        "outputId": "dab983e2-19bf-405c-f9ba-a758e0dcb592"
      },
      "source": [
        "!ls /content/drive/MyDrive/CS221/Results/"
      ],
      "execution_count": null,
      "outputs": [
        {
          "output_type": "stream",
          "name": "stdout",
          "text": [
            " BERT.csv\n",
            " BERT_keep_prob_0.55_BATCH_SIZE_32_epoch_8.0_acc_0.757.csv\n",
            " day_of_week.pdf\n",
            " LR.csv\n",
            " METADATA-RESULT.xlsx\n",
            " model2.csv\n",
            " model3.csv\n",
            " model5_cnnnew.csv\n",
            " model_gbm.csv\n",
            " NB.csv\n",
            "'Review Ratings_CDF.pdf'\n",
            " user_id_max_review_a_day.pdf\n",
            " word_count_CDF.pdf\n"
          ]
        }
      ]
    },
    {
      "cell_type": "code",
      "metadata": {
        "id": "XIJsVJ_OnkBN"
      },
      "source": [
        "NB = pd.read_csv(r'/content/drive/MyDrive/CS221/Results/NB.csv')\n",
        "BERT = pd.read_csv(r'/content/drive/MyDrive/CS221/Results/BERT_keep_prob_0.55_BATCH_SIZE_32_epoch_8.0_acc_0.757.csv')\n",
        "NN = pd.read_csv(r'/content/drive/MyDrive/CS221/Results/model2.csv')\n",
        "LSTM = pd.read_csv(r'/content/drive/MyDrive/CS221/Results/model3.csv')\n",
        "LSTM_CNN = pd.read_csv(r'/content/drive/MyDrive/CS221/Results/model5_cnnnew.csv')\n",
        "GBM = pd.read_csv(r'/content/drive/MyDrive/CS221/Results/model_gbm.csv')"
      ],
      "execution_count": null,
      "outputs": []
    },
    {
      "cell_type": "code",
      "metadata": {
        "colab": {
          "base_uri": "https://localhost:8080/",
          "height": 424
        },
        "id": "I6FqmsEBzZoN",
        "outputId": "a08d0f4c-9970-4783-be2e-c5731f8b3716"
      },
      "source": [
        "NB"
      ],
      "execution_count": null,
      "outputs": [
        {
          "output_type": "execute_result",
          "data": {
            "text/html": [
              "<div>\n",
              "<style scoped>\n",
              "    .dataframe tbody tr th:only-of-type {\n",
              "        vertical-align: middle;\n",
              "    }\n",
              "\n",
              "    .dataframe tbody tr th {\n",
              "        vertical-align: top;\n",
              "    }\n",
              "\n",
              "    .dataframe thead th {\n",
              "        text-align: right;\n",
              "    }\n",
              "</style>\n",
              "<table border=\"1\" class=\"dataframe\">\n",
              "  <thead>\n",
              "    <tr style=\"text-align: right;\">\n",
              "      <th></th>\n",
              "      <th>Unnamed: 0</th>\n",
              "      <th>prob</th>\n",
              "      <th>predictions</th>\n",
              "      <th>labels</th>\n",
              "    </tr>\n",
              "  </thead>\n",
              "  <tbody>\n",
              "    <tr>\n",
              "      <th>0</th>\n",
              "      <td>0</td>\n",
              "      <td>0.715514</td>\n",
              "      <td>1</td>\n",
              "      <td>1</td>\n",
              "    </tr>\n",
              "    <tr>\n",
              "      <th>1</th>\n",
              "      <td>1</td>\n",
              "      <td>0.585492</td>\n",
              "      <td>1</td>\n",
              "      <td>1</td>\n",
              "    </tr>\n",
              "    <tr>\n",
              "      <th>2</th>\n",
              "      <td>2</td>\n",
              "      <td>0.321098</td>\n",
              "      <td>0</td>\n",
              "      <td>1</td>\n",
              "    </tr>\n",
              "    <tr>\n",
              "      <th>3</th>\n",
              "      <td>3</td>\n",
              "      <td>0.792183</td>\n",
              "      <td>1</td>\n",
              "      <td>1</td>\n",
              "    </tr>\n",
              "    <tr>\n",
              "      <th>4</th>\n",
              "      <td>4</td>\n",
              "      <td>0.752995</td>\n",
              "      <td>1</td>\n",
              "      <td>1</td>\n",
              "    </tr>\n",
              "    <tr>\n",
              "      <th>...</th>\n",
              "      <td>...</td>\n",
              "      <td>...</td>\n",
              "      <td>...</td>\n",
              "      <td>...</td>\n",
              "    </tr>\n",
              "    <tr>\n",
              "      <th>9995</th>\n",
              "      <td>9995</td>\n",
              "      <td>0.052902</td>\n",
              "      <td>0</td>\n",
              "      <td>0</td>\n",
              "    </tr>\n",
              "    <tr>\n",
              "      <th>9996</th>\n",
              "      <td>9996</td>\n",
              "      <td>0.160620</td>\n",
              "      <td>0</td>\n",
              "      <td>0</td>\n",
              "    </tr>\n",
              "    <tr>\n",
              "      <th>9997</th>\n",
              "      <td>9997</td>\n",
              "      <td>0.500216</td>\n",
              "      <td>1</td>\n",
              "      <td>0</td>\n",
              "    </tr>\n",
              "    <tr>\n",
              "      <th>9998</th>\n",
              "      <td>9998</td>\n",
              "      <td>0.648268</td>\n",
              "      <td>1</td>\n",
              "      <td>0</td>\n",
              "    </tr>\n",
              "    <tr>\n",
              "      <th>9999</th>\n",
              "      <td>9999</td>\n",
              "      <td>0.266090</td>\n",
              "      <td>0</td>\n",
              "      <td>0</td>\n",
              "    </tr>\n",
              "  </tbody>\n",
              "</table>\n",
              "<p>10000 rows × 4 columns</p>\n",
              "</div>"
            ],
            "text/plain": [
              "      Unnamed: 0      prob  predictions  labels\n",
              "0              0  0.715514            1       1\n",
              "1              1  0.585492            1       1\n",
              "2              2  0.321098            0       1\n",
              "3              3  0.792183            1       1\n",
              "4              4  0.752995            1       1\n",
              "...          ...       ...          ...     ...\n",
              "9995        9995  0.052902            0       0\n",
              "9996        9996  0.160620            0       0\n",
              "9997        9997  0.500216            1       0\n",
              "9998        9998  0.648268            1       0\n",
              "9999        9999  0.266090            0       0\n",
              "\n",
              "[10000 rows x 4 columns]"
            ]
          },
          "metadata": {},
          "execution_count": 7
        }
      ]
    },
    {
      "cell_type": "code",
      "metadata": {
        "colab": {
          "base_uri": "https://localhost:8080/",
          "height": 424
        },
        "id": "cwLsh-UUGr3X",
        "outputId": "7b039d6d-cd66-4be3-d62c-751aa6892dbe"
      },
      "source": [
        "NN"
      ],
      "execution_count": null,
      "outputs": [
        {
          "output_type": "execute_result",
          "data": {
            "text/html": [
              "<div>\n",
              "<style scoped>\n",
              "    .dataframe tbody tr th:only-of-type {\n",
              "        vertical-align: middle;\n",
              "    }\n",
              "\n",
              "    .dataframe tbody tr th {\n",
              "        vertical-align: top;\n",
              "    }\n",
              "\n",
              "    .dataframe thead th {\n",
              "        text-align: right;\n",
              "    }\n",
              "</style>\n",
              "<table border=\"1\" class=\"dataframe\">\n",
              "  <thead>\n",
              "    <tr style=\"text-align: right;\">\n",
              "      <th></th>\n",
              "      <th>Unnamed: 0</th>\n",
              "      <th>prob</th>\n",
              "      <th>labels</th>\n",
              "      <th>predictions</th>\n",
              "      <th>accuracy</th>\n",
              "    </tr>\n",
              "  </thead>\n",
              "  <tbody>\n",
              "    <tr>\n",
              "      <th>0</th>\n",
              "      <td>0</td>\n",
              "      <td>0.552460</td>\n",
              "      <td>1</td>\n",
              "      <td>1</td>\n",
              "      <td>1</td>\n",
              "    </tr>\n",
              "    <tr>\n",
              "      <th>1</th>\n",
              "      <td>1</td>\n",
              "      <td>0.569086</td>\n",
              "      <td>1</td>\n",
              "      <td>1</td>\n",
              "      <td>1</td>\n",
              "    </tr>\n",
              "    <tr>\n",
              "      <th>2</th>\n",
              "      <td>2</td>\n",
              "      <td>0.757054</td>\n",
              "      <td>1</td>\n",
              "      <td>1</td>\n",
              "      <td>1</td>\n",
              "    </tr>\n",
              "    <tr>\n",
              "      <th>3</th>\n",
              "      <td>3</td>\n",
              "      <td>1.046670</td>\n",
              "      <td>1</td>\n",
              "      <td>1</td>\n",
              "      <td>1</td>\n",
              "    </tr>\n",
              "    <tr>\n",
              "      <th>4</th>\n",
              "      <td>4</td>\n",
              "      <td>0.438635</td>\n",
              "      <td>1</td>\n",
              "      <td>0</td>\n",
              "      <td>0</td>\n",
              "    </tr>\n",
              "    <tr>\n",
              "      <th>...</th>\n",
              "      <td>...</td>\n",
              "      <td>...</td>\n",
              "      <td>...</td>\n",
              "      <td>...</td>\n",
              "      <td>...</td>\n",
              "    </tr>\n",
              "    <tr>\n",
              "      <th>9995</th>\n",
              "      <td>9995</td>\n",
              "      <td>0.145496</td>\n",
              "      <td>0</td>\n",
              "      <td>0</td>\n",
              "      <td>1</td>\n",
              "    </tr>\n",
              "    <tr>\n",
              "      <th>9996</th>\n",
              "      <td>9996</td>\n",
              "      <td>0.059134</td>\n",
              "      <td>0</td>\n",
              "      <td>0</td>\n",
              "      <td>1</td>\n",
              "    </tr>\n",
              "    <tr>\n",
              "      <th>9997</th>\n",
              "      <td>9997</td>\n",
              "      <td>0.233686</td>\n",
              "      <td>0</td>\n",
              "      <td>0</td>\n",
              "      <td>1</td>\n",
              "    </tr>\n",
              "    <tr>\n",
              "      <th>9998</th>\n",
              "      <td>9998</td>\n",
              "      <td>0.766194</td>\n",
              "      <td>0</td>\n",
              "      <td>1</td>\n",
              "      <td>0</td>\n",
              "    </tr>\n",
              "    <tr>\n",
              "      <th>9999</th>\n",
              "      <td>9999</td>\n",
              "      <td>0.198650</td>\n",
              "      <td>0</td>\n",
              "      <td>0</td>\n",
              "      <td>1</td>\n",
              "    </tr>\n",
              "  </tbody>\n",
              "</table>\n",
              "<p>10000 rows × 5 columns</p>\n",
              "</div>"
            ],
            "text/plain": [
              "      Unnamed: 0      prob  labels  predictions  accuracy\n",
              "0              0  0.552460       1            1         1\n",
              "1              1  0.569086       1            1         1\n",
              "2              2  0.757054       1            1         1\n",
              "3              3  1.046670       1            1         1\n",
              "4              4  0.438635       1            0         0\n",
              "...          ...       ...     ...          ...       ...\n",
              "9995        9995  0.145496       0            0         1\n",
              "9996        9996  0.059134       0            0         1\n",
              "9997        9997  0.233686       0            0         1\n",
              "9998        9998  0.766194       0            1         0\n",
              "9999        9999  0.198650       0            0         1\n",
              "\n",
              "[10000 rows x 5 columns]"
            ]
          },
          "metadata": {},
          "execution_count": 8
        }
      ]
    },
    {
      "cell_type": "code",
      "metadata": {
        "colab": {
          "base_uri": "https://localhost:8080/"
        },
        "id": "x0sc46ab8F8V",
        "outputId": "148505d5-00f7-4fbe-858d-cdcab43274b1"
      },
      "source": [
        "from sklearn import metrics\n",
        "NB_acc = metrics.accuracy_score(NB.labels , NB.predictions)\n",
        "print(\"NB Accuracy:\", NB_acc)\n",
        "NB_recall = metrics.recall_score(NB.labels , NB.predictions)\n",
        "print(\"NB recall:\", NB_recall)\n",
        "NB_precision = metrics.precision_score(NB.labels , NB.predictions)\n",
        "print(\"NB precision:\", NB_precision)\n",
        "NB_fpr, NB_tpr, NB_thresholds = metrics.roc_curve(NB.labels , NB.prob)\n",
        "NB_auc = metrics.roc_auc_score(NB.labels , NB.prob)\n",
        "print(\"NB Auc ROC is \",NB_auc)\n",
        "NB_precision, NB_recall, NB_thresholds = metrics.precision_recall_curve(NB.labels , NB.prob)\n",
        "NB_auc = metrics.auc(NB_recall, NB_precision)\n",
        "print(\"NB Auc PRC is \",NB_auc)\n",
        "NB_f1 = metrics.f1_score(NB.labels, NB.predictions)\n",
        "print(\"NB F1 score is\",NB_f1)\n",
        "print(\"NB Log loss is \",metrics.log_loss(NB.labels , NB.prob))"
      ],
      "execution_count": null,
      "outputs": [
        {
          "output_type": "stream",
          "name": "stdout",
          "text": [
            "NB Accuracy: 0.6544\n",
            "NB recall: 0.7368\n",
            "NB precision: 0.632554945054945\n",
            "NB Auc ROC is  0.7080433199999999\n",
            "NB Auc PRC is  0.6695996516929208\n",
            "NB F1 score is 0.680709534368071\n",
            "NB Log loss is  0.6241664904935046\n"
          ]
        }
      ]
    },
    {
      "cell_type": "code",
      "metadata": {
        "colab": {
          "base_uri": "https://localhost:8080/"
        },
        "id": "k8dTK3EDEW-o",
        "outputId": "ed8c96af-5c42-4856-d587-49b779db95b9"
      },
      "source": [
        "NN_acc = metrics.accuracy_score(NN.labels , NN.predictions)\n",
        "print(\"NN Accuracy:\", NN_acc)\n",
        "NN_fpr, NN_tpr, NN_thresholds = metrics.roc_curve(NN.labels , NN.prob)\n",
        "NN_auc = metrics.roc_auc_score(NN.labels , NN.prob)\n",
        "print(\"NN Auc ROC is \",NN_auc)\n",
        "NN_precision, NN_recall, NN_thresholds = metrics.precision_recall_curve(NN.labels , NN.prob)\n",
        "NN_auc = metrics.auc(NN_recall, NN_precision)\n",
        "print(\"NN Auc PRC is \",NN_auc)\n",
        "NN_f1 = metrics.f1_score(NN.labels, NN.predictions)\n",
        "print(\"NN F1 score is\",NN_f1)\n",
        "print(\"NN Log loss is \",metrics.log_loss(NN.labels , NN.prob))"
      ],
      "execution_count": null,
      "outputs": [
        {
          "output_type": "stream",
          "name": "stdout",
          "text": [
            "NN Accuracy: 0.636\n",
            "NN Auc ROC is  0.68496004\n",
            "NN Auc PRC is  0.6488923527201023\n",
            "NN F1 score is 0.6463272444617177\n",
            "NN Log loss is  1.1623993351687225\n"
          ]
        }
      ]
    },
    {
      "cell_type": "code",
      "metadata": {
        "id": "04QGj8ieEXPe",
        "colab": {
          "base_uri": "https://localhost:8080/"
        },
        "outputId": "3cdf232c-36a8-4f31-8952-841896638c5d"
      },
      "source": [
        "LSTM_acc = metrics.accuracy_score(LSTM.labels , LSTM.predictions)\n",
        "print(\"LSTM Accuracy:\", LSTM_acc)\n",
        "LSTM_fpr, LSTM_tpr, LSTM_thresholds = metrics.roc_curve(LSTM.labels , LSTM.prob)\n",
        "LSTM_auc = metrics.roc_auc_score(LSTM.labels , LSTM.prob)\n",
        "print(\"LSTM Auc ROC is \",LSTM_auc)\n",
        "LSTM_precision, LSTM_recall, LSTM_thresholds = metrics.precision_recall_curve(LSTM.labels , LSTM.prob)\n",
        "LSTM_auc = metrics.auc(LSTM_recall, LSTM_precision)\n",
        "print(\"LSTM Auc PRC is \",LSTM_auc)\n",
        "LSTM_f1 = metrics.f1_score(LSTM.labels, LSTM.predictions)\n",
        "print(\"LSTM F1 score is\",LSTM_f1)\n",
        "print(\"LSTM Log loss is \",metrics.log_loss(LSTM.labels , LSTM.prob))"
      ],
      "execution_count": null,
      "outputs": [
        {
          "output_type": "stream",
          "name": "stdout",
          "text": [
            "LSTM Accuracy: 0.6218\n",
            "LSTM Auc ROC is  0.66459962\n",
            "LSTM Auc PRC is  0.6368575798188438\n",
            "LSTM F1 score is 0.6323157690064165\n",
            "LSTM Log loss is  0.7020484822797686\n"
          ]
        }
      ]
    },
    {
      "cell_type": "code",
      "metadata": {
        "id": "qf3cKX04EXak",
        "colab": {
          "base_uri": "https://localhost:8080/"
        },
        "outputId": "d384616f-f265-4233-8e0d-797f30fca4fe"
      },
      "source": [
        "LSTM_CNN_acc = metrics.accuracy_score(LSTM_CNN.labels , LSTM_CNN.predictions)\n",
        "print(\"LSTM_CNN Accuracy:\", LSTM_CNN_acc)\n",
        "LSTM_CNN_fpr, LSTM_CNN_tpr, LSTM_CNN_thresholds = metrics.roc_curve(LSTM_CNN.labels , LSTM_CNN.prob)\n",
        "LSTM_CNN_auc = metrics.roc_auc_score(LSTM_CNN.labels , LSTM_CNN.prob)\n",
        "print(\"LSTM_CNN Auc ROC is \",LSTM_CNN_auc)\n",
        "LSTM_CNN_precision, LSTM_CNN_recall, LSTM_CNN_thresholds = metrics.precision_recall_curve(LSTM_CNN.labels , LSTM_CNN.prob)\n",
        "LSTM_CNN_auc = metrics.auc(LSTM_CNN_recall, LSTM_CNN_precision)\n",
        "print(\"LSTM_CNN Auc PRC is \",LSTM_CNN_auc)\n",
        "LSTM_CNN_f1 = metrics.f1_score(LSTM_CNN.labels, LSTM_CNN.predictions)\n",
        "print(\"LSTM_CNN F1 score is\",LSTM_CNN_f1)\n",
        "print(\"LSTM_CNN Log loss is \",metrics.log_loss(LSTM_CNN.labels , LSTM_CNN.prob))"
      ],
      "execution_count": null,
      "outputs": [
        {
          "output_type": "stream",
          "name": "stdout",
          "text": [
            "LSTM_CNN Accuracy: 0.6463\n",
            "LSTM_CNN Auc ROC is  0.6977446599999999\n",
            "LSTM_CNN Auc PRC is  0.6583741726676595\n",
            "LSTM_CNN F1 score is 0.6815521743044927\n",
            "LSTM_CNN Log loss is  0.6290140744028125\n"
          ]
        }
      ]
    },
    {
      "cell_type": "code",
      "metadata": {
        "id": "dhRFGwN3EYSf",
        "colab": {
          "base_uri": "https://localhost:8080/"
        },
        "outputId": "2c9dd78e-c633-4ab5-b0ce-17fa96c0c44e"
      },
      "source": [
        "GBM_acc = metrics.accuracy_score(GBM.labels , GBM.predictions)\n",
        "print(\"GBM Accuracy:\", GBM_acc)\n",
        "GBM_recall = metrics.recall_score(GBM.labels , GBM.predictions)\n",
        "print(\"GBM recall:\", GBM_recall)\n",
        "GBM_precision = metrics.precision_score(GBM.labels , GBM.predictions)\n",
        "print(\"GBM precision:\", GBM_precision)\n",
        "GBM_fpr, GBM_tpr, GBM_thresholds = metrics.roc_curve(GBM.labels , GBM.prob)\n",
        "GBM_auc = metrics.roc_auc_score(GBM.labels , GBM.prob)\n",
        "print(\"GBM Auc ROC is \",GBM_auc)\n",
        "GBM_precision, GBM_recall, GBM_thresholds = metrics.precision_recall_curve(GBM.labels , GBM.prob)\n",
        "GBM_auc = metrics.auc(GBM_recall, GBM_precision)\n",
        "print(\"GBM Auc PRC is \",GBM_auc)\n",
        "GBM_f1 = metrics.f1_score(GBM.labels, GBM.predictions)\n",
        "print(\"GBM F1 score is\",GBM_f1)\n",
        "print(\"GBM Log loss is \",metrics.log_loss(GBM.labels , GBM.prob))"
      ],
      "execution_count": null,
      "outputs": [
        {
          "output_type": "stream",
          "name": "stdout",
          "text": [
            "GBM Accuracy: 0.6695\n",
            "GBM recall: 0.7818\n",
            "GBM precision: 0.6384125428711416\n",
            "GBM Auc ROC is  0.7376843200000001\n",
            "GBM Auc PRC is  0.7234168510336101\n",
            "GBM F1 score is 0.7028679313134946\n",
            "GBM Log loss is  0.6036262540703934\n"
          ]
        }
      ]
    },
    {
      "cell_type": "code",
      "metadata": {
        "id": "b2BXy0jz9-yB",
        "colab": {
          "base_uri": "https://localhost:8080/"
        },
        "outputId": "6ccb5ef9-810a-45ca-f471-291b9b49994c"
      },
      "source": [
        "BERT_acc = metrics.accuracy_score(BERT.labels , BERT.predictions)\n",
        "print(\"BERT Accuracy:\", BERT_acc)\n",
        "BERT_fpr, BERT_tpr, BERT_thresholds = metrics.roc_curve(BERT.labels , BERT.prob)\n",
        "BERT_auc = metrics.roc_auc_score(BERT.labels , BERT.prob)\n",
        "print(\"BERT Auc ROC is \",BERT_auc)\n",
        "BERT_precision, BERT_recall, BERT_thresholds = metrics.precision_recall_curve(BERT.labels , BERT.prob)\n",
        "BERT_auc = metrics.auc(BERT_recall, BERT_precision)\n",
        "print(\"BERT Auc PRC is \",BERT_auc)\n",
        "BERT_f1 = metrics.f1_score(BERT.labels, BERT.predictions)\n",
        "print(\"BERT F1 score is\",BERT_f1)\n",
        "print(\"BERT Log loss is \",metrics.log_loss(BERT.labels , BERT.prob))"
      ],
      "execution_count": null,
      "outputs": [
        {
          "output_type": "stream",
          "name": "stdout",
          "text": [
            "BERT Accuracy: 0.757\n",
            "BERT Auc ROC is  0.81811422\n",
            "BERT Auc PRC is  0.7772369219155796\n",
            "BERT F1 score is 0.7661662817551963\n",
            "BERT Log loss is  1.7299063545246376\n"
          ]
        }
      ]
    },
    {
      "cell_type": "code",
      "metadata": {
        "id": "LleOrguD9BU6",
        "colab": {
          "base_uri": "https://localhost:8080/",
          "height": 295
        },
        "outputId": "d21e11be-6315-41b0-cb74-db44675a4a4f"
      },
      "source": [
        "import matplotlib.pyplot as plt\n",
        "# plot the roc curve for the model\n",
        "plt.plot(BERT_fpr, BERT_tpr, label='BERT')\n",
        "plt.plot(NB_fpr, NB_tpr, label='NB')\n",
        "plt.plot(NN_fpr, NN_tpr, label='NN')\n",
        "plt.plot(LSTM_fpr, LSTM_tpr, label='LSTM')\n",
        "plt.plot(LSTM_CNN_fpr, LSTM_CNN_tpr, label='LSTM-CNN')\n",
        "# plt.plot(LSTM_CNN_fpr, LSTM_CNN_tpr, label='LSTM_CNN')\n",
        "plt.plot(GBM_fpr, GBM_tpr, label='GBM')\n",
        "#plt.plot(fpr_ll, tpr_ll, linestyle='-', label='Logistic Regression')\n",
        "#pyplot.plot(lr_fpr, lr_tpr, marker='.', label='Logistic')\n",
        "# axis labels\n",
        "plt.xlabel('False Positive Rate')\n",
        "plt.ylabel('True Positive Rate')\n",
        "plt.title('AUC-ROC')\n",
        "# show the legend\n",
        "plt.legend()\n",
        "# show the plot\n",
        "plt.show()"
      ],
      "execution_count": null,
      "outputs": [
        {
          "output_type": "display_data",
          "data": {
            "image/png": "[encoded data removed]",
            "text/plain": [
              "<Figure size 432x288 with 1 Axes>"
            ]
          },
          "metadata": {
            "needs_background": "light"
          }
        }
      ]
    },
    {
      "cell_type": "code",
      "metadata": {
        "id": "Ch0OaAqX-gUM",
        "colab": {
          "base_uri": "https://localhost:8080/",
          "height": 359
        },
        "outputId": "25c0e244-1100-417c-9232-f2f58d2a82d0"
      },
      "source": [
        "from sklearn.metrics import confusion_matrix ,accuracy_score,roc_curve,auc,roc_curve,roc_auc_score,f1_score\n",
        "import seaborn as sns\n",
        "import matplotlib as plt\n",
        "\n",
        "cnf_matrix_test = confusion_matrix(BERT.labels , BERT.predictions)\n",
        "print(cnf_matrix_test)\n",
        "ax = sns.heatmap(cnf_matrix_test, annot=True,fmt='g', cmap='Blues')\n",
        "\n",
        "ax.set_title('BERT Confusion Matrix on test set');\n",
        "ax.set_xlabel('\\nPredicted Values')\n",
        "ax.set_ylabel('Actual Values ');\n",
        "\n",
        "ax.xaxis.set_ticklabels(['Real','Fake'])\n",
        "ax.yaxis.set_ticklabels(['Real','Fake'])\n"
      ],
      "execution_count": null,
      "outputs": [
        {
          "output_type": "stream",
          "name": "stdout",
          "text": [
            "[[3589 1411]\n",
            " [1019 3981]]\n"
          ]
        },
        {
          "output_type": "execute_result",
          "data": {
            "text/plain": [
              "[Text(0, 0.5, 'Real'), Text(0, 1.5, 'Fake')]"
            ]
          },
          "metadata": {},
          "execution_count": 13
        },
        {
          "output_type": "display_data",
          "data": {
            "image/png": "[encoded data removed]",
            "text/plain": [
              "<Figure size 432x288 with 2 Axes>"
            ]
          },
          "metadata": {
            "needs_background": "light"
          }
        }
      ]
    },
    {
      "cell_type": "code",
      "metadata": {
        "id": "pqgc45C6KJfG",
        "colab": {
          "base_uri": "https://localhost:8080/",
          "height": 359
        },
        "outputId": "15da6949-aefd-498d-911a-f7a808f24772"
      },
      "source": [
        "cnf_matrix_test = confusion_matrix(NB.labels , NB.predictions)\n",
        "print(cnf_matrix_test)\n",
        "ax = sns.heatmap(cnf_matrix_test, annot=True,fmt='g', cmap='Blues')\n",
        "\n",
        "ax.set_title('NB Confusion Matrix on test set');\n",
        "ax.set_xlabel('\\nPredicted Values')\n",
        "ax.set_ylabel('Actual Values ');\n",
        "\n",
        "ax.xaxis.set_ticklabels(['Real','Fake'])\n",
        "ax.yaxis.set_ticklabels(['Real','Fake'])"
      ],
      "execution_count": null,
      "outputs": [
        {
          "output_type": "stream",
          "name": "stdout",
          "text": [
            "[[2860 2140]\n",
            " [1316 3684]]\n"
          ]
        },
        {
          "output_type": "execute_result",
          "data": {
            "text/plain": [
              "[Text(0, 0.5, 'Real'), Text(0, 1.5, 'Fake')]"
            ]
          },
          "metadata": {},
          "execution_count": 14
        },
        {
          "output_type": "display_data",
          "data": {
            "image/png": "[encoded data removed]",
            "text/plain": [
              "<Figure size 432x288 with 2 Axes>"
            ]
          },
          "metadata": {
            "needs_background": "light"
          }
        }
      ]
    },
    {
      "cell_type": "code",
      "metadata": {
        "id": "seTaFgjPi-9m"
      },
      "source": [
        ""
      ],
      "execution_count": null,
      "outputs": []
    }
  ]
}